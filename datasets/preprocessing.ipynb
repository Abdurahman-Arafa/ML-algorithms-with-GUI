{
 "cells": [
  {
   "cell_type": "code",
   "execution_count": 1,
   "metadata": {},
   "outputs": [],
   "source": [
    "import numpy as np\n",
    "import pandas as pd\n",
    "from sklearn.preprocessing import LabelEncoder\n",
    "\n"
   ]
  },
  {
   "cell_type": "code",
   "execution_count": 57,
   "metadata": {},
   "outputs": [],
   "source": [
    "# path = r\"C:\\Users\\abdob\\OneDrive\\Desktop\\el nahas proj\\proj\\survey lung cancer.csv\"\n",
    "# path = r\"C:\\Users\\abdob\\OneDrive\\Desktop\\el nahas proj\\proj\\data-mining-project\\pima-indians-diabetes.csv\"\n",
    "\n"
   ]
  },
  {
   "cell_type": "code",
   "execution_count": 58,
   "metadata": {},
   "outputs": [],
   "source": [
    "\n",
    "# Load the data from the CSV file\n",
    "df = pd.read_csv(path)\n",
    "\n",
    "# Create a list to store the transformed columns\n",
    "transformed_columns = []\n",
    "\n",
    "# Iterate over the columns in the DataFrame\n",
    "for col in df.columns:\n",
    "  # Check if the column has dtype 'object' (i.e., string values)\n",
    "  if df[col].dtype == object:\n",
    "    # Create an instance of the LabelEncoder class\n",
    "    le = LabelEncoder()\n",
    "\n",
    "    # Fit the encoder on the column\n",
    "    le.fit(df[col])\n",
    "\n",
    "    # Transform the column to labels\n",
    "    transformed_col = le.transform(df[col])\n",
    "\n",
    "    # Add the transformed column to the list\n",
    "    transformed_columns.append(transformed_col)\n",
    "  else:\n",
    "    # If the column is not a string column, just append it as is\n",
    "    transformed_columns.append(df[col])\n",
    "\n",
    "# Create a new DataFrame with the transformed columns\n",
    "df_transformed = pd.DataFrame(transformed_columns).T\n",
    "\n",
    "# Set the column names to the original column names\n",
    "df_transformed.columns = df.columns\n",
    "\n",
    "# Save the transformed DataFrame to a new CSV file\n",
    "df_transformed.to_csv(\"LungCapData.csv\", index=False)\n"
   ]
  }
 ],
 "metadata": {
  "kernelspec": {
   "display_name": "Python 3",
   "language": "python",
   "name": "python3"
  },
  "language_info": {
   "codemirror_mode": {
    "name": "ipython",
    "version": 3
   },
   "file_extension": ".py",
   "mimetype": "text/x-python",
   "name": "python",
   "nbconvert_exporter": "python",
   "pygments_lexer": "ipython3",
   "version": "3.10.4 (tags/v3.10.4:9d38120, Mar 23 2022, 23:13:41) [MSC v.1929 64 bit (AMD64)]"
  },
  "orig_nbformat": 4,
  "vscode": {
   "interpreter": {
    "hash": "369f2c481f4da34e4445cda3fffd2e751bd1c4d706f27375911949ba6bb62e1c"
   }
  }
 },
 "nbformat": 4,
 "nbformat_minor": 2
}
